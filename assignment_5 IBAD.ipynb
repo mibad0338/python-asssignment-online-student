{
 "cells": [
  {
   "cell_type": "code",
   "execution_count": 1,
   "metadata": {},
   "outputs": [
    {
     "name": "stdout",
     "output_type": "stream",
     "text": [
      "Write a number to calculate the factiorial : 7\n",
      "5040\n"
     ]
    }
   ],
   "source": [
    "def factorial(fact):\n",
    "    if fact == 0:\n",
    "        return 1\n",
    "    else:\n",
    "        return fact * factorial(fact-1)\n",
    "fact=int(input(\"Write a number to calculate the factiorial : \"))\n",
    "print(factorial(fact))"
   ]
  },
  {
   "cell_type": "code",
   "execution_count": 2,
   "metadata": {},
   "outputs": [
    {
     "name": "stdout",
     "output_type": "stream",
     "text": [
      "Enter string:muhammad ibad\n",
      "The number of lowercase characters is:\n",
      "12\n",
      "The number of uppercase characters is:\n",
      "0\n"
     ]
    }
   ],
   "source": [
    "string=input(\"Enter string:\")\n",
    "count1=0\n",
    "count2=0\n",
    "for i in string:\n",
    "      if(i.islower()):\n",
    "            count1=count1+1\n",
    "      elif(i.isupper()):\n",
    "            count2=count2+1\n",
    "print(\"The number of lowercase characters is:\")\n",
    "print(count1)\n",
    "print(\"The number of uppercase characters is:\")\n",
    "print(count2)"
   ]
  },
  {
   "cell_type": "code",
   "execution_count": 3,
   "metadata": {},
   "outputs": [
    {
     "name": "stdout",
     "output_type": "stream",
     "text": [
      "22 42 72 "
     ]
    }
   ],
   "source": [
    "list1 = [11, 22, 42, 47, 72, 99]  \n",
    "for num in list1:  \n",
    "    if num % 2 == 0: \n",
    "       print(num, end = \" \")"
   ]
  },
  {
   "cell_type": "code",
   "execution_count": 4,
   "metadata": {},
   "outputs": [
    {
     "name": "stdout",
     "output_type": "stream",
     "text": [
      "True\n",
      "False\n",
      "True\n",
      "False\n"
     ]
    }
   ],
   "source": [
    "def isPalindrome(string):\n",
    "\tleft_pos = 0\n",
    "\tright_pos = len(string) - 1\n",
    "\t\n",
    "\twhile right_pos >= left_pos:\n",
    "\t\tif not string[left_pos] == string[right_pos]:\n",
    "\t\t\treturn False\n",
    "\t\tleft_pos += 1\n",
    "\t\tright_pos -= 1\n",
    "\treturn True\n",
    "print(isPalindrome('mom'))\n",
    "print(isPalindrome('how'))\n",
    "print(isPalindrome('wow'))\n",
    "print(isPalindrome('cow'))"
   ]
  },
  {
   "cell_type": "code",
   "execution_count": 5,
   "metadata": {},
   "outputs": [
    {
     "name": "stdout",
     "output_type": "stream",
     "text": [
      "False\n",
      "True\n",
      "False\n",
      "True\n"
     ]
    }
   ],
   "source": [
    "def test_prime(n):\n",
    "    if (n==1):\n",
    "        return False\n",
    "    elif (n==2):\n",
    "        return True;\n",
    "    else:\n",
    "        for x in range(2,n):\n",
    "            if(n % x==0):\n",
    "                return False\n",
    "        return True             \n",
    "print(test_prime(20))\n",
    "print(test_prime(2))\n",
    "print(test_prime(50))\n",
    "print(test_prime(3))"
   ]
  },
  {
   "cell_type": "code",
   "execution_count": 6,
   "metadata": {},
   "outputs": [
    {
     "name": "stdout",
     "output_type": "stream",
     "text": [
      "Enter your budget : 50\n",
      "1.ADD\n",
      "2.EXIT\n",
      "Enter your choice : 1\n",
      "Enter product name : cookies\n",
      "Enter quantity : 2\n",
      "Enter price of the product : 15\n",
      "\n",
      "amount left 35.0\n",
      "1.ADD\n",
      "2.EXIT\n",
      "Enter your choice : 1\n",
      "Enter product name : milk\n",
      "Enter quantity : 1\n",
      "Enter price of the product : 20\n",
      "\n",
      "amount left 15.0\n",
      "1.ADD\n",
      "2.EXIT\n",
      "Enter your choice : 2\n",
      "\n",
      "Amount left : Rs. 15.0\n",
      "\n",
      "Amount left can buy you a cookies\n",
      "\n",
      "\n",
      "\n",
      "GROCERY LIST\n",
      "cookies 2 15.0\n",
      "milk 1 20.0\n"
     ]
    }
   ],
   "source": [
    "while True:\n",
    "    try: \n",
    "        bg = float(input(\"Enter your budget : \"))\n",
    "        s = bg  \n",
    "    except ValueError: \n",
    "        print(\"PRINT NUMBER AS A AMOUNT\") \n",
    "        continue\n",
    "    else: \n",
    "        break\n",
    "a ={\"name\":[], \"quant\":[], \"price\":[]}\n",
    "b = list(a.values())\n",
    "na = b[0]\n",
    "qu = b[1]\n",
    "pr = b[2] \n",
    "while True: \n",
    "    try: \n",
    "        ch = int(input(\"1.ADD\\n2.EXIT\\nEnter your choice : \")) \n",
    "    except ValueError: \n",
    "        print(\"\\nERROR: Choose only digits from the given option\") \n",
    "        continue\n",
    "    else:\n",
    "        if ch == 1 and s>0:   \n",
    "            pn = input(\"Enter product name : \")\n",
    "            q = input(\"Enter quantity : \")\n",
    "            p = float(input(\"Enter price of the product : \"))\n",
    "            if p>s:\n",
    "                print(\"\\nCAN, T BUT THE PRODUCT\")  \n",
    "                continue\n",
    "            else:\n",
    "                if pn in na:\n",
    "                    ind = na.index(pn)\n",
    "                    qu.remove(qu[ind])\n",
    "                    pr.remove(pr[ind])   \n",
    "                    qu.insert(ind, q)\n",
    "                    pr.insert(ind, p)    \n",
    "                    s = bg-sum(pr)\n",
    "                    print(\"\\namount left\", s) \n",
    "                else:\n",
    "                    na.append(pn)\n",
    "                    qu.append(q)\n",
    "                    pr.append(p)     \n",
    "                    s = bg-sum(pr)    \n",
    "                    print(\"\\namount left\", s)\n",
    "        elif s<= 0:  \n",
    "            print(\"\\nNO BUDGET\")  \n",
    "        else: \n",
    "            break \n",
    "print(\"\\nAmount left : Rs.\", s) \n",
    "if s in pr: \n",
    "    print(\"\\nAmount left can buy you a\", na[pr.index(s)])\n",
    "print(\"\\n\\n\\nGROCERY LIST\")\n",
    "for i in range(len(na)):  \n",
    "    print(na[i], qu[i], pr[i])"
   ]
  },
  {
   "cell_type": "code",
   "execution_count": null,
   "metadata": {},
   "outputs": [],
   "source": []
  }
 ],
 "metadata": {
  "kernelspec": {
   "display_name": "Python 3",
   "language": "python",
   "name": "python3"
  },
  "language_info": {
   "codemirror_mode": {
    "name": "ipython",
    "version": 3
   },
   "file_extension": ".py",
   "mimetype": "text/x-python",
   "name": "python",
   "nbconvert_exporter": "python",
   "pygments_lexer": "ipython3",
   "version": "3.7.4"
  }
 },
 "nbformat": 4,
 "nbformat_minor": 2
}
